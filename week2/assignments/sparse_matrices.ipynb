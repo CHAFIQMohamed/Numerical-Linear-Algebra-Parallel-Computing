{
 "cells": [
  {
   "cell_type": "markdown",
   "id": "aea03da3",
   "metadata": {},
   "source": [
    "In this assignement, feel free to use the `sparse` module from `scipy`."
   ]
  },
  {
   "cell_type": "markdown",
   "id": "2df42bcc",
   "metadata": {},
   "source": [
    "Use the cell below for your imports."
   ]
  },
  {
   "cell_type": "code",
   "execution_count": 1,
   "id": "e9644e55",
   "metadata": {},
   "outputs": [],
   "source": [
    "import numpy as np\n",
    "from scipy.sparse import csr_matrix\n",
    "from collections import defaultdict\n",
    "from typing import List, Tuple\n"
   ]
  },
  {
   "cell_type": "markdown",
   "id": "8948a816",
   "metadata": {},
   "source": [
    "implement the function `mat_mul_coo` that takes two sparse matrices in `coo` and returns their product."
   ]
  },
  {
   "cell_type": "code",
   "execution_count": 2,
   "id": "6047ee0e",
   "metadata": {},
   "outputs": [],
   "source": [
    "def mat_mul_coo(A: Tuple[List[int], List[int], List[float]], B: Tuple[List[int], List[int], List[float]]):\n",
    "    \n",
    "    if len(A[0]) == 0 or len(B[0]) == 0:\n",
    "        return ([], [], [])\n",
    "\n",
    "    # create dictionary to store intermediate results (used for affectation before declaration)\n",
    "    # It provides a default value for the key that does not exists.\n",
    "    intermediate = defaultdict(float)\n",
    "\n",
    "    # I iterate over the first matrix and populate intermediate dictionary\n",
    "    for i in range(len(A[0])):\n",
    "        row1 = A[0][i]\n",
    "        col1 = A[1][i]\n",
    "        val1 = A[2][i]\n",
    "        for j in range(len(B[0])):\n",
    "            row2 = B[0][j]\n",
    "            col2 = B[1][j]\n",
    "            val2 = B[2][j]\n",
    "            if col1 == row2:\n",
    "                intermediate[(row1, col2)] += val1 * val2\n",
    "\n",
    "    # I convert intermediate dictionary to COO format\n",
    "    rows = []\n",
    "    cols = []\n",
    "    vals = []\n",
    "    for (row, col), val in intermediate.items():\n",
    "        rows.append(row)\n",
    "        cols.append(col)\n",
    "        vals.append(val)\n",
    "\n",
    "    return np.array([rows, cols, vals])\n"
   ]
  },
  {
   "cell_type": "code",
   "execution_count": 4,
   "id": "d705af44",
   "metadata": {},
   "outputs": [
    {
     "name": "stdout",
     "output_type": "stream",
     "text": [
      "A:\n",
      "([0, 0, 1, 1, 2], [0, 2, 1, 2, 0], [2, 3, 4, 5, 6])\n",
      "B:\n",
      "([0, 0, 1, 1, 2, 2], [0, 1, 0, 2, 1, 2], [1, 2, 3, 4, 5, 6])\n",
      "result:\n",
      "[[ 0.  0.  0.  1.  1.  1.  2.  2.]\n",
      " [ 0.  1.  2.  0.  2.  1.  0.  1.]\n",
      " [ 2. 19. 18. 12. 46. 25.  6. 12.]]\n"
     ]
    }
   ],
   "source": [
    "# Example test case\n",
    "A = ([0, 0, 1, 1, 2], [0, 2, 1, 2, 0], [2, 3, 4, 5, 6])\n",
    "B = ([0, 0, 1, 1, 2, 2], [0, 1, 0, 2, 1, 2], [1, 2, 3, 4, 5, 6])\n",
    "\n",
    "result = mat_mul_coo(A, B)\n",
    "\n",
    "print(\"A:\")\n",
    "print(A)\n",
    "print(\"B:\")\n",
    "print(B)\n",
    "print(\"result:\")\n",
    "print(result)"
   ]
  },
  {
   "cell_type": "markdown",
   "id": "4a626dec",
   "metadata": {},
   "source": [
    "implement the function `mat_mul_csr` that takes two sparse matrices in `csr` format and returns their product."
   ]
  },
  {
   "cell_type": "code",
   "execution_count": 5,
   "id": "c2e56fbd",
   "metadata": {},
   "outputs": [],
   "source": [
    "def sparse_matrix_mult(A_data, A_indices, A_indptr, B_data, B_indices, B_indptr):\n",
    "    # get dimensions of A and B\n",
    "    m, n, p = len(A_indptr) - 1, len(B_indptr) - 1, len(B_indices)\n",
    "    # initialize result arrays\n",
    "    C_data, C_indices, C_indptr = [], [], [0]\n",
    "    # iterate over rows of A\n",
    "    for i in range(m):\n",
    "        # create dictionary to store values for row i of C\n",
    "        C_row = {}\n",
    "        # iterate over nonzeros in row i of A\n",
    "        for k in range(A_indptr[i], A_indptr[i+1]):\n",
    "            # get column index j and value A[i,j]\n",
    "            j, A_ij = A_indices[k], A_data[k]\n",
    "            # check that column j of B has nonzero entries\n",
    "            if j < n:\n",
    "                # iterate over nonzeros in column j of B\n",
    "                for l in range(B_indptr[j], B_indptr[j+1]):\n",
    "                    # get row index k and value B[j,k]\n",
    "                    k, B_jk = B_indices[l], B_data[l]\n",
    "                    # add value A[i,j] * B[j,k] to row i of C\n",
    "                    C_row[k] = C_row.get(k, 0) + A_ij * B_jk\n",
    "        # append values for row i of C to result arrays\n",
    "        for k, val in C_row.items():\n",
    "            C_indices.append(k)\n",
    "            C_data.append(val)\n",
    "        C_indptr.append(len(C_indices))\n",
    "    return C_data, C_indices, C_indptr\n"
   ]
  },
  {
   "cell_type": "raw",
   "id": "f57109bf",
   "metadata": {},
   "source": [
    "Test the function sparse_matrix_mult"
   ]
  },
  {
   "cell_type": "code",
   "execution_count": 6,
   "id": "b43ba5f3",
   "metadata": {},
   "outputs": [
    {
     "name": "stdout",
     "output_type": "stream",
     "text": [
      "[[1 2 0 0]\n",
      " [0 3 4 0]\n",
      " [0 0 5 6]]\n",
      "[[1 2 0 0]\n",
      " [0 3 4 0]\n",
      " [0 0 5 6]]\n"
     ]
    },
    {
     "data": {
      "text/plain": [
       "([1, 8, 8, 9, 32, 24, 25, 30], [0, 1, 2, 1, 2, 3, 2, 3], [0, 3, 6, 8])"
      ]
     },
     "execution_count": 6,
     "metadata": {},
     "output_type": "execute_result"
    }
   ],
   "source": [
    "# Define the matrices in CSR format\n",
    "data1 = np.array([1, 2, 3, 4, 5, 6])\n",
    "row_ptr1 = np.array([0, 2, 4, 6])\n",
    "col_ind1 = np.array([0, 1, 1, 2, 2, 3])\n",
    "\n",
    "\n",
    "data2 = np.array([1, 2, 3, 4, 5, 6])\n",
    "row_ptr2 = np.array([0, 2, 4, 6])\n",
    "col_ind2 = np.array([0, 1, 1, 2, 2, 3])\n",
    "\n",
    "\n",
    "sparse_matrix1 = csr_matrix((data1, col_ind1, row_ptr1))\n",
    "dense_matrix1 = sparse_matrix1.toarray()\n",
    "\n",
    "print(dense_matrix1)\n",
    "\n",
    "sparse_matrix2 = csr_matrix((data2, col_ind2, row_ptr2))\n",
    "dense_matrix2 = sparse_matrix2.toarray()\n",
    "\n",
    "print(dense_matrix2)\n",
    "sparse_matrix_mult(data1, col_ind1, row_ptr1, data1, col_ind1, row_ptr1)"
   ]
  },
  {
   "cell_type": "code",
   "execution_count": 8,
   "id": "30974c11",
   "metadata": {},
   "outputs": [
    {
     "name": "stdout",
     "output_type": "stream",
     "text": [
      "[[ 1 12 17 30]\n",
      " [ 0 16 20  0]\n",
      " [ 0  0  0  0]\n",
      " [ 0 52 65 81]]\n",
      "[[ 1 12 17 30]\n",
      " [ 0 16 20  0]\n",
      " [ 0  0  0  0]\n",
      " [ 0 52 65 81]]\n"
     ]
    }
   ],
   "source": [
    "#compare the results \n",
    "data = np.array([1, 2, 3, 4, 5, 6,2])\n",
    "col_indices = np.array([0, 2, 3, 1, 2, 3,3])\n",
    "row_pointers = np.array([0, 3, 5, 2,6])\n",
    "sparse_matrix = csr_matrix((data, col_indices, row_pointers))\n",
    "\n",
    "dense_matrix = sparse_matrix.toarray()\n",
    "print(np.dot(dense_matrix,dense_matrix))\n",
    "print(csr_matrix(sparse_matrix_mult(data, col_indices, row_pointers,  data, col_indices, row_pointers)).toarray())"
   ]
  },
  {
   "cell_type": "markdown",
   "id": "9592a90b",
   "metadata": {},
   "source": [
    "implement a function `solve_lin_sys` that takes a matrix `A` in `csr` format and a vector `b` as a numpy array and solves the system `Ax = b`."
   ]
  },
  {
   "cell_type": "code",
   "execution_count": 9,
   "id": "00edeb4c",
   "metadata": {},
   "outputs": [],
   "source": [
    "import numpy as np\n",
    "from scipy.sparse import csr_matrix\n",
    "\n",
    "def solve_lin_sys(A, b):\n",
    "    # Convert A to CSR format\n",
    "    A_csr = csr_matrix(A)\n",
    "    \n",
    "    # Get the number of rows in A\n",
    "    n = A_csr.shape[0]\n",
    "    \n",
    "    # Initialize the solution vector x\n",
    "    x = np.zeros(n)\n",
    "    \n",
    "    # Iterate over the rows of A\n",
    "    for i in range(n):\n",
    "        # Get the indices and data for the non-zero elements in row i\n",
    "        row_data = A_csr.data[A_csr.indptr[i]:A_csr.indptr[i+1]]\n",
    "        row_indices = A_csr.indices[A_csr.indptr[i]:A_csr.indptr[i+1]]\n",
    "        \n",
    "        # Compute the dot product of row i and x to get the ith element of Ax\n",
    "        Ax_i = np.dot(row_data, x[row_indices])\n",
    "        \n",
    "        # Compute the ith element of x using the formula: x_i = (b_i - Ax_i) / A[i,i]\n",
    "        x[i] = (b[i] - Ax_i) / A_csr[i,i]\n",
    "    \n",
    "    return x\n"
   ]
  },
  {
   "cell_type": "code",
   "execution_count": 10,
   "id": "05e34d8c",
   "metadata": {},
   "outputs": [
    {
     "name": "stdout",
     "output_type": "stream",
     "text": [
      "[ 1.         -0.4        -0.08888889]\n"
     ]
    }
   ],
   "source": [
    "import numpy as np\n",
    "from scipy.sparse import csr_matrix\n",
    "\n",
    "# Define a 3x3 matrix A in CSR format\n",
    "data = np.array([1, 2, 3, 4, 5, 6, 7, 8, 9])\n",
    "indices = np.array([0, 1, 2, 0, 1, 2, 0, 1, 2])\n",
    "indptr = np.array([0, 3, 6, 9])\n",
    "A = csr_matrix((data, indices, indptr), shape=(3, 3))\n",
    "\n",
    "# Define a 3x1 vector b\n",
    "b = np.array([1, 2, 3])\n",
    "\n",
    "# Solve the linear system Ax = b\n",
    "x = solve_lin_sys(A, b)\n",
    "\n",
    "# Print the solution\n",
    "print(x)\n"
   ]
  },
  {
   "cell_type": "code",
   "execution_count": null,
   "id": "28719a33",
   "metadata": {},
   "outputs": [],
   "source": []
  }
 ],
 "metadata": {
  "kernelspec": {
   "display_name": "Python 3 (ipykernel)",
   "language": "python",
   "name": "python3"
  },
  "language_info": {
   "codemirror_mode": {
    "name": "ipython",
    "version": 3
   },
   "file_extension": ".py",
   "mimetype": "text/x-python",
   "name": "python",
   "nbconvert_exporter": "python",
   "pygments_lexer": "ipython3",
   "version": "3.9.7"
  }
 },
 "nbformat": 4,
 "nbformat_minor": 5
}

{
 "cells": [
  {
   "cell_type": "markdown",
   "id": "aea03da3",
   "metadata": {},
   "source": [
    "In this assignement, feel free to use the `sparse` module from `scipy`."
   ]
  },
  {
   "cell_type": "markdown",
   "id": "2df42bcc",
   "metadata": {},
   "source": [
    "Use the cell below for your imports."
   ]
  },
  {
   "cell_type": "code",
   "execution_count": 12,
   "id": "e9644e55",
   "metadata": {},
   "outputs": [],
   "source": [
    "import numpy as np\n",
    "from scipy.sparse import csr_matrix\n"
   ]
  },
  {
   "cell_type": "markdown",
   "id": "8948a816",
   "metadata": {},
   "source": [
    "implement the function `mat_mul_coo` that takes two sparse matrices in `coo` and returns their product."
   ]
  },
  {
   "cell_type": "code",
   "execution_count": null,
   "id": "6047ee0e",
   "metadata": {},
   "outputs": [],
   "source": []
  },
  {
   "cell_type": "markdown",
   "id": "4a626dec",
   "metadata": {},
   "source": [
    "implement the function `mat_mul_csr` that takes two sparse matrices in `csr` format and returns their product."
   ]
  },
  {
   "cell_type": "code",
   "execution_count": 16,
   "id": "c2e56fbd",
   "metadata": {},
   "outputs": [],
   "source": [
    "def sparse_matrix_mult(A_data, A_indices, A_indptr, B_data, B_indices, B_indptr):\n",
    "    \"\"\"\n",
    "    Multiplies two sparse matrices in CRS format.\n",
    "    :param A_data: array of nonzero values in matrix A\n",
    "    :param A_indices: array of column indices for each nonzero value in matrix A\n",
    "    :param A_indptr: array of indices into A_data and A_indices indicating where each row of A starts and ends\n",
    "    :param B_data: array of nonzero values in matrix B\n",
    "    :param B_indices: array of column indices for each nonzero value in matrix B\n",
    "    :param B_indptr: array of indices into B_data and B_indices indicating where each row of B starts and ends\n",
    "    :return: sparse matrix product AB in CRS format\n",
    "    \"\"\"\n",
    "    # get dimensions of A and B\n",
    "    m, n, p = len(A_indptr) - 1, len(B_indptr) - 1, len(B_indices)\n",
    "    # initialize result arrays\n",
    "    C_data, C_indices, C_indptr = [], [], [0]\n",
    "    # iterate over rows of A\n",
    "    for i in range(m):\n",
    "        # create dictionary to store values for row i of C\n",
    "        C_row = {}\n",
    "        # iterate over nonzeros in row i of A\n",
    "        for k in range(A_indptr[i], A_indptr[i+1]):\n",
    "            # get column index j and value A[i,j]\n",
    "            j, A_ij = A_indices[k], A_data[k]\n",
    "            # check that column j of B has nonzero entries\n",
    "            if j < n:\n",
    "                # iterate over nonzeros in column j of B\n",
    "                for l in range(B_indptr[j], B_indptr[j+1]):\n",
    "                    # get row index k and value B[j,k]\n",
    "                    k, B_jk = B_indices[l], B_data[l]\n",
    "                    # add value A[i,j] * B[j,k] to row i of C\n",
    "                    C_row[k] = C_row.get(k, 0) + A_ij * B_jk\n",
    "        # append values for row i of C to result arrays\n",
    "        for k, val in C_row.items():\n",
    "            C_indices.append(k)\n",
    "            C_data.append(val)\n",
    "        C_indptr.append(len(C_indices))\n",
    "    return C_data, C_indices, C_indptr\n"
   ]
  },
  {
   "cell_type": "code",
   "execution_count": 19,
   "id": "b43ba5f3",
   "metadata": {},
   "outputs": [
    {
     "name": "stdout",
     "output_type": "stream",
     "text": [
      "[[1 2 0 0]\n",
      " [0 3 4 0]\n",
      " [0 0 5 6]]\n",
      "[[1 2 0 0]\n",
      " [0 3 4 0]\n",
      " [0 0 5 6]]\n"
     ]
    },
    {
     "data": {
      "text/plain": [
       "([1, 8, 8, 9, 32, 24, 25, 30], [0, 1, 2, 1, 2, 3, 2, 3], [0, 3, 6, 8])"
      ]
     },
     "execution_count": 19,
     "metadata": {},
     "output_type": "execute_result"
    }
   ],
   "source": [
    "# Define the matrices in CSR format\n",
    "data1 = np.array([1, 2, 3, 4, 5, 6])\n",
    "row_ptr1 = np.array([0, 2, 4, 6])\n",
    "col_ind1 = np.array([0, 1, 1, 2, 2, 3])\n",
    "\n",
    "\n",
    "data2 = np.array([1, 2, 3, 4, 5, 6])\n",
    "row_ptr2 = np.array([0, 2, 4, 6])\n",
    "col_ind2 = np.array([0, 1, 1, 2, 2, 3])\n",
    "\n",
    "\n",
    "sparse_matrix1 = csr_matrix((data1, col_ind1, row_ptr1))\n",
    "dense_matrix1 = sparse_matrix1.toarray()\n",
    "\n",
    "print(dense_matrix1)\n",
    "\n",
    "sparse_matrix2 = csr_matrix((data2, col_ind2, row_ptr2))\n",
    "dense_matrix2 = sparse_matrix2.toarray()\n",
    "\n",
    "print(dense_matrix2)\n",
    "sparse_matrix_mult(data1, col_ind1, row_ptr1, data1, col_ind1, row_ptr1)"
   ]
  },
  {
   "cell_type": "code",
   "execution_count": 28,
   "id": "30974c11",
   "metadata": {},
   "outputs": [
    {
     "name": "stdout",
     "output_type": "stream",
     "text": [
      "[[ 1 12 17 30]\n",
      " [ 0 16 20  0]\n",
      " [ 0  0  0  0]\n",
      " [ 0 52 65 81]]\n",
      "[[ 1 12 17 30]\n",
      " [ 0 16 20  0]\n",
      " [ 0  0  0  0]\n",
      " [ 0 52 65 81]]\n"
     ]
    }
   ],
   "source": [
    "data = np.array([1, 2, 3, 4, 5, 6,2])\n",
    "col_indices = np.array([0, 2, 3, 1, 2, 3,3])\n",
    "row_pointers = np.array([0, 3, 5, 2,6])\n",
    "sparse_matrix = csr_matrix((data, col_indices, row_pointers))\n",
    "\n",
    "dense_matrix = sparse_matrix.toarray()\n",
    "print(np.dot(dense_matrix,dense_matrix))\n",
    "print(csr_matrix(sparse_matrix_mult(data, col_indices, row_pointers,  data, col_indices, row_pointers)).toarray())"
   ]
  },
  {
   "cell_type": "code",
   "execution_count": 21,
   "id": "0da5a147",
   "metadata": {},
   "outputs": [
    {
     "ename": "ValueError",
     "evalue": "shapes (3,4) and (3,4) not aligned: 4 (dim 1) != 3 (dim 0)",
     "output_type": "error",
     "traceback": [
      "\u001b[1;31m---------------------------------------------------------------------------\u001b[0m",
      "\u001b[1;31mValueError\u001b[0m                                Traceback (most recent call last)",
      "\u001b[1;32m~\\AppData\\Local\\Temp/ipykernel_16804/519256401.py\u001b[0m in \u001b[0;36m<module>\u001b[1;34m\u001b[0m\n\u001b[1;32m----> 1\u001b[1;33m \u001b[0mnp\u001b[0m\u001b[1;33m.\u001b[0m\u001b[0mdot\u001b[0m\u001b[1;33m(\u001b[0m\u001b[0mdense_matrix2\u001b[0m\u001b[1;33m,\u001b[0m\u001b[0mdense_matrix1\u001b[0m\u001b[1;33m)\u001b[0m\u001b[1;33m\u001b[0m\u001b[1;33m\u001b[0m\u001b[0m\n\u001b[0m",
      "\u001b[1;32m<__array_function__ internals>\u001b[0m in \u001b[0;36mdot\u001b[1;34m(*args, **kwargs)\u001b[0m\n",
      "\u001b[1;31mValueError\u001b[0m: shapes (3,4) and (3,4) not aligned: 4 (dim 1) != 3 (dim 0)"
     ]
    }
   ],
   "source": [
    "np.dot(dense_matrix2,dense_matrix1)"
   ]
  },
  {
   "cell_type": "markdown",
   "id": "9592a90b",
   "metadata": {},
   "source": [
    "implement a function `solve_lin_sys` that takes a matrix `A` in `csr` format and a vector `b` as a numpy array and solves the system `Ax = b`."
   ]
  },
  {
   "cell_type": "code",
   "execution_count": null,
   "id": "00edeb4c",
   "metadata": {},
   "outputs": [],
   "source": []
  },
  {
   "cell_type": "code",
   "execution_count": 6,
   "id": "16f8ea50",
   "metadata": {},
   "outputs": [
    {
     "name": "stdout",
     "output_type": "stream",
     "text": [
      "[0 1 3 6 6 7]\n"
     ]
    }
   ],
   "source": [
    "import numpy as np\n",
    "from scipy.sparse import csr_matrix\n",
    "\n",
    "# Define a test matrix\n",
    "data = np.array([1, 2, 3, 4, 5, 6, 7, 8, 9])\n",
    "indices = np.array([0, 2, 2, 3, 1, 3, 4, 0, 4])\n",
    "indptr = np.array([0, 2, 4, 7, 8, 9])\n",
    "\n",
    "# Create the CSR matrix\n",
    "A = csr_matrix((data, indices, indptr))\n",
    "\n",
    "# Compute the row_ptr array\n",
    "row_ptr = [0]\n",
    "for i in range(1, A.shape[0]+1):\n",
    "    row_ptr.append(row_ptr[i-1] + np.count_nonzero(A.indices[A.indptr[i-1]:A.indptr[i]]))\n",
    "row_ptr = np.array(row_ptr)\n",
    "\n",
    "print(row_ptr)\n"
   ]
  },
  {
   "cell_type": "code",
   "execution_count": 8,
   "id": "4392bec2",
   "metadata": {},
   "outputs": [
    {
     "name": "stdout",
     "output_type": "stream",
     "text": [
      "  (0, 0)\t1\n",
      "  (0, 2)\t2\n",
      "  (1, 2)\t3\n",
      "  (1, 3)\t4\n",
      "  (2, 1)\t5\n",
      "  (2, 3)\t6\n",
      "  (2, 4)\t7\n",
      "  (3, 0)\t8\n",
      "  (4, 4)\t9\n"
     ]
    }
   ],
   "source": [
    "print(A)"
   ]
  },
  {
   "cell_type": "code",
   "execution_count": null,
   "id": "05e34d8c",
   "metadata": {},
   "outputs": [],
   "source": []
  }
 ],
 "metadata": {
  "kernelspec": {
   "display_name": "Python 3 (ipykernel)",
   "language": "python",
   "name": "python3"
  },
  "language_info": {
   "codemirror_mode": {
    "name": "ipython",
    "version": 3
   },
   "file_extension": ".py",
   "mimetype": "text/x-python",
   "name": "python",
   "nbconvert_exporter": "python",
   "pygments_lexer": "ipython3",
   "version": "3.9.7"
  }
 },
 "nbformat": 4,
 "nbformat_minor": 5
}
